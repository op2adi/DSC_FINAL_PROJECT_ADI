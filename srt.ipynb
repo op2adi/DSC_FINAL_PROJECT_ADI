{
 "cells": [
  {
   "cell_type": "code",
   "execution_count": null,
   "metadata": {},
   "outputs": [],
   "source": [
    "# Jai Mata Di\n",
    "# Project on DataScience\n",
    "# Author : Aditya Upadhyay\n",
    "# Date : 2024 - 10 - 29\n",
    "# Proffessor Supratim Shit\n"
   ]
  },
  {
   "cell_type": "code",
   "execution_count": 2,
   "metadata": {},
   "outputs": [
    {
     "name": "stdout",
     "output_type": "stream",
     "text": [
      "AQI column does not follow a normal distribution (reject H0).\n"
     ]
    },
    {
     "name": "stderr",
     "output_type": "stream",
     "text": [
      "C:\\Users\\ADITYA UPADHYAY\\AppData\\Local\\Temp\\ipykernel_29612\\2106101386.py:11: FutureWarning: A value is trying to be set on a copy of a DataFrame or Series through chained assignment using an inplace method.\n",
      "The behavior will change in pandas 3.0. This inplace method will never work because the intermediate object on which we are setting values always behaves as a copy.\n",
      "\n",
      "For example, when doing 'df[col].method(value, inplace=True)', try using 'df.method({col: value}, inplace=True)' or df[col] = df[col].method(value) instead, to perform the operation inplace on the original object.\n",
      "\n",
      "\n",
      "  data['AQI'].fillna(data['AQI'].median(), inplace=True)\n",
      "C:\\Users\\ADITYA UPADHYAY\\AppData\\Roaming\\Python\\Python311\\site-packages\\scipy\\stats\\_axis_nan_policy.py:573: UserWarning: scipy.stats.shapiro: For N > 5000, computed p-value may not be accurate. Current N is 707875.\n",
      "  res = hypotest_fun_out(*samples, **kwds)\n"
     ]
    }
   ],
   "source": [
    "import pandas as pd\n",
    "from scipy.stats import shapiro\n",
    "\n",
    "# Load your dataset\n",
    "data = pd.read_csv(r\"D:\\DSC\\archive (2)\\city_hour.csv\")\n",
    "\n",
    "# Option 1: Impute missing values with the mean\n",
    "# data['AQI'].fillna(data['AQI'].mean(), inplace=True)\n",
    "\n",
    "# Option 2: Impute missing values with the median (uncomment if preferred)\n",
    "data['AQI'].fillna(data['AQI'].median(), inplace=True)\n",
    "\n",
    "# Perform Shapiro-Wilk test on the AQI column\n",
    "stat, p_value = shapiro(data['AQI'])\n",
    "\n",
    "# Print results\n",
    "alpha = 0.05  # significance level\n",
    "if p_value > alpha:\n",
    "    print(\"AQI column appears to follow a normal distribution (fail to reject H0).\")\n",
    "else:\n",
    "    print(\"AQI column does not follow a normal distribution (reject H0).\")\n"
   ]
  },
  {
   "cell_type": "code",
   "execution_count": 3,
   "metadata": {},
   "outputs": [
    {
     "name": "stdout",
     "output_type": "stream",
     "text": [
      "Significant difference in AQI among cities (reject H0).\n"
     ]
    }
   ],
   "source": [
    "import pandas as pd\n",
    "from scipy.stats import f_oneway\n",
    "\n",
    "\n",
    "# Group AQI data by city\n",
    "cities = data['City'].unique()\n",
    "aqi_groups = [data[data['City'] == city]['AQI'] for city in cities]\n",
    "\n",
    "# Perform ANOVA\n",
    "stat, p_value = f_oneway(*aqi_groups)\n",
    "\n",
    "# Print results\n",
    "alpha = 0.05  # significance level\n",
    "if p_value > alpha:\n",
    "    print(\"No significant difference in AQI among cities (fail to reject H0).\")\n",
    "else:\n",
    "    print(\"Significant difference in AQI among cities (reject H0).\")\n"
   ]
  },
  {
   "cell_type": "code",
   "execution_count": 1,
   "metadata": {},
   "outputs": [
    {
     "name": "stdout",
     "output_type": "stream",
     "text": [
      "No significant difference in means among normalized PM2.5, NO, NO2, CO, and AQI (fail to reject H0).\n",
      "ANOVA test p-value: 1.0\n"
     ]
    }
   ],
   "source": [
    "from scipy.stats import zscore, f_oneway\n",
    "import pandas as pd\n",
    "\n",
    "# Load the dataset\n",
    "data = pd.read_csv(r\"D:\\DSC\\archive (2)\\city_hour.csv\")\n",
    "\n",
    "# Fill null values with the median only for numerical columns\n",
    "numerical_cols = data.select_dtypes(include=['number']).columns\n",
    "data[numerical_cols] = data[numerical_cols].apply(lambda x: x.fillna(x.median()))\n",
    "\n",
    "# Select only the dependent columns (PM2.5, NO, NO2, CO, AQI) for analysis\n",
    "data_dependent = data[['PM2.5', 'NO', 'NO2', 'CO', 'AQI']]\n",
    "\n",
    "# Normalize each column using z-score normalization\n",
    "data_normalized = data_dependent.apply(zscore)\n",
    "\n",
    "# Organize each normalized column as a separate group for ANOVA\n",
    "groups = [data_normalized[col] for col in data_normalized.columns]\n",
    "\n",
    "# Perform ANOVA test on the dependent columns\n",
    "stat, p_value = f_oneway(*groups)\n",
    "\n",
    "# Print results\n",
    "alpha = 0.05  # significance level\n",
    "if p_value > alpha:\n",
    "    print(\"No significant difference in means among normalized PM2.5, NO, NO2, CO, and AQI (fail to reject H0).\")\n",
    "else:\n",
    "    print(\"Significant difference in means among normalized PM2.5, NO, NO2, CO, and AQI (reject H0).\")\n",
    "\n",
    "# Display p-value for further analysis\n",
    "print(f\"ANOVA test p-value: {p_value}\")\n"
   ]
  }
 ],
 "metadata": {
  "kernelspec": {
   "display_name": "Python 3",
   "language": "python",
   "name": "python3"
  },
  "language_info": {
   "codemirror_mode": {
    "name": "ipython",
    "version": 3
   },
   "file_extension": ".py",
   "mimetype": "text/x-python",
   "name": "python",
   "nbconvert_exporter": "python",
   "pygments_lexer": "ipython3",
   "version": "3.11.8"
  }
 },
 "nbformat": 4,
 "nbformat_minor": 2
}
