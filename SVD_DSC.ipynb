{
  "nbformat": 4,
  "nbformat_minor": 0,
  "metadata": {
    "colab": {
      "provenance": [],
      "gpuType": "T4"
    },
    "kernelspec": {
      "name": "python3",
      "display_name": "Python 3"
    },
    "language_info": {
      "name": "python"
    },
    "accelerator": "GPU"
  },
  "cells": [
    {
      "cell_type": "code",
      "execution_count": null,
      "metadata": {
        "id": "dr6wRrOcVxKU"
      },
      "outputs": [],
      "source": [
        "import pandas as pd\n",
        "import numpy as np\n",
        "from sklearn.model_selection import train_test_split\n",
        "import torch\n",
        "import torch.nn as nn\n",
        "import torch.optim as optim\n",
        "from sklearn.metrics import mean_absolute_error, mean_squared_error, r2_score\n",
        "import pandas as pd\n",
        "import numpy as np\n",
        "from google.colab import drive\n",
        "from sklearn.preprocessing import StandardScaler\n",
        "from sklearn.decomposition import TruncatedSVD\n",
        "import matplotlib.pyplot as plt\n",
        "from sklearn.metrics import mean_absolute_error, confusion_matrix, classification_report\n",
        "from sklearn.metrics import r2_score, f1_score\n",
        "import seaborn as sns\n",
        "from sklearn.preprocessing import StandardScaler, LabelEncoder"
      ]
    },
    {
      "cell_type": "code",
      "source": [
        "drive.mount('/content/drive')\n",
        "\n",
        "data = pd.read_csv('/content/drive/My Drive/imputed_city_hour_scaled.txt')\n",
        "\n",
        "# Filter for City == Delhi\n",
        "data = data[data['City'] == 'Delhi']\n",
        "\n",
        "label_encoder = LabelEncoder()\n",
        "data['AQI_Bucket_Encoded'] = label_encoder.fit_transform(data['AQI_Bucket'])\n",
        "\n",
        "# Split inputs and output\n",
        "X = data[['PM2.5', 'PM10', 'NO', 'NO2', 'NOx', 'NH3', 'CO', 'SO2', 'O3', 'Benzene', 'Toluene', 'Xylene']].values\n",
        "y = data['AQI'].values\n",
        "y_aqi_bucket = data['AQI_Bucket_Encoded'].values"
      ],
      "metadata": {
        "colab": {
          "base_uri": "https://localhost:8080/"
        },
        "id": "igtdlLfWWPDl",
        "outputId": "a6aa95e4-ef6c-4dac-b5d5-2f0f8e259d09"
      },
      "execution_count": null,
      "outputs": [
        {
          "output_type": "stream",
          "name": "stdout",
          "text": [
            "Drive already mounted at /content/drive; to attempt to forcibly remount, call drive.mount(\"/content/drive\", force_remount=True).\n"
          ]
        }
      ]
    },
    {
      "cell_type": "code",
      "source": [
        "scaler = StandardScaler()\n",
        "X_normalized = scaler.fit_transform(X)"
      ],
      "metadata": {
        "id": "kCxOifQ8YiEu"
      },
      "execution_count": null,
      "outputs": []
    },
    {
      "cell_type": "code",
      "source": [
        "n_components = 6\n",
        "svd = TruncatedSVD(n_components=n_components)\n",
        "X_reduced = svd.fit_transform(X_normalized)\n",
        "\n",
        "print(\"Original Shape:\", X_normalized.shape)\n",
        "print(\"Reduced Shape:\", X_reduced.shape)\n"
      ],
      "metadata": {
        "colab": {
          "base_uri": "https://localhost:8080/"
        },
        "id": "W3f9wYeZZtQ9",
        "outputId": "3b6f7313-0df1-439e-ebc7-96ecb5289915"
      },
      "execution_count": null,
      "outputs": [
        {
          "output_type": "stream",
          "name": "stdout",
          "text": [
            "Original Shape: (38709, 12)\n",
            "Reduced Shape: (38709, 6)\n"
          ]
        }
      ]
    },
    {
      "cell_type": "code",
      "source": [
        "print(\"Explained Variance Ratio:\", svd.explained_variance_ratio_)\n",
        "print(\"Cumulative Explained Variance:\", svd.explained_variance_ratio_.cumsum())"
      ],
      "metadata": {
        "colab": {
          "base_uri": "https://localhost:8080/"
        },
        "id": "D-bZ39Uwas-k",
        "outputId": "e0e8effa-48ae-4d01-d287-b31f34d0ab2d"
      },
      "execution_count": null,
      "outputs": [
        {
          "output_type": "stream",
          "name": "stdout",
          "text": [
            "Explained Variance Ratio: [0.33782983 0.14323542 0.11234526 0.08591918 0.06972615 0.06151025]\n",
            "Cumulative Explained Variance: [0.33782983 0.48106525 0.5934105  0.67932968 0.74905583 0.81056608]\n"
          ]
        }
      ]
    },
    {
      "cell_type": "code",
      "source": [
        "device = torch.device(\"cuda\" if torch.cuda.is_available() else \"cpu\")\n",
        "X_train, X_test, y_train, y_test = train_test_split(X_reduced, y, test_size=0.2, random_state=42)\n",
        "\n",
        "# Convert to PyTorch tensors\n",
        "X_train_tensor = torch.tensor(X_train, dtype=torch.float32)\n",
        "y_train_tensor = torch.tensor(y_train, dtype=torch.float32).view(-1, 1)\n",
        "X_test_tensor = torch.tensor(X_test, dtype=torch.float32)\n",
        "y_test_tensor = torch.tensor(y_test, dtype=torch.float32).view(-1, 1)\n",
        "\n",
        "# Move tensors to the same device as the model\n",
        "X_train_tensor = X_train_tensor.to(device)\n",
        "y_train_tensor = y_train_tensor.to(device)\n",
        "X_test_tensor = X_test_tensor.to(device)\n",
        "y_test_tensor = y_test_tensor.to(device)\n",
        "\n",
        "# Define ANN\n",
        "class ANN(nn.Module):\n",
        "    def __init__(self):\n",
        "        super(ANN, self).__init__()\n",
        "        self.layer1 = nn.Linear(6, 32)\n",
        "        self.layer2 = nn.Linear(32, 32)\n",
        "        self.output = nn.Linear(32, 1)\n",
        "        self.tanh = nn.Tanh()\n",
        "\n",
        "    def forward(self, x):\n",
        "        x = self.tanh(self.layer1(x))\n",
        "        x = self.tanh(self.layer2(x))\n",
        "        x = self.output(x)\n",
        "        return x\n",
        "\n",
        "# Initialize model, loss, and optimizer\n",
        "model = ANN().to(device)\n",
        "criterion = nn.MSELoss()\n",
        "optimizer = optim.Adam(model.parameters(), lr=0.01)\n",
        "# Initialize lists to store loss values\n",
        "loss_values = []\n",
        "\n",
        "# Train model\n",
        "epochs = 3000\n",
        "for epoch in range(epochs):\n",
        "    model.train()\n",
        "    optimizer.zero_grad()\n",
        "    predictions = model(X_train_tensor)\n",
        "    loss = criterion(predictions, y_train_tensor)\n",
        "    loss.backward()\n",
        "    optimizer.step()\n",
        "\n",
        "    # Save loss for plotting\n",
        "    loss_values.append(loss.item())\n",
        "\n",
        "    if (epoch + 1) % 100 == 0:\n",
        "        print(f\"Epoch {epoch+1}/{epochs}, Loss: {loss.item()}\")"
      ],
      "metadata": {
        "colab": {
          "base_uri": "https://localhost:8080/"
        },
        "id": "UGKYAOTKaxTX",
        "outputId": "fe66de9a-0247-45fc-f4a6-2b188de06a8a"
      },
      "execution_count": null,
      "outputs": [
        {
          "output_type": "stream",
          "name": "stdout",
          "text": [
            "Epoch 100/3000, Loss: 47020.37109375\n",
            "Epoch 200/3000, Loss: 36232.96484375\n",
            "Epoch 300/3000, Loss: 28237.529296875\n",
            "Epoch 400/3000, Loss: 22405.818359375\n",
            "Epoch 500/3000, Loss: 17795.244140625\n",
            "Epoch 600/3000, Loss: 14256.875\n",
            "Epoch 700/3000, Loss: 11597.236328125\n",
            "Epoch 800/3000, Loss: 9594.54296875\n",
            "Epoch 900/3000, Loss: 8072.0126953125\n",
            "Epoch 1000/3000, Loss: 6918.7236328125\n",
            "Epoch 1100/3000, Loss: 6023.75732421875\n",
            "Epoch 1200/3000, Loss: 5324.6259765625\n",
            "Epoch 1300/3000, Loss: 4782.91650390625\n",
            "Epoch 1400/3000, Loss: 4364.9482421875\n",
            "Epoch 1500/3000, Loss: 4050.592529296875\n",
            "Epoch 1600/3000, Loss: 3795.98388671875\n",
            "Epoch 1700/3000, Loss: 3586.05419921875\n",
            "Epoch 1800/3000, Loss: 3420.84033203125\n",
            "Epoch 1900/3000, Loss: 3285.36474609375\n",
            "Epoch 2000/3000, Loss: 3175.08203125\n",
            "Epoch 2100/3000, Loss: 3078.185302734375\n",
            "Epoch 2200/3000, Loss: 2996.671630859375\n",
            "Epoch 2300/3000, Loss: 2927.88525390625\n",
            "Epoch 2400/3000, Loss: 2866.3583984375\n",
            "Epoch 2500/3000, Loss: 2815.10546875\n",
            "Epoch 2600/3000, Loss: 2775.297607421875\n",
            "Epoch 2700/3000, Loss: 2745.1142578125\n",
            "Epoch 2800/3000, Loss: 2719.30419921875\n",
            "Epoch 2900/3000, Loss: 2693.556396484375\n",
            "Epoch 3000/3000, Loss: 2671.704833984375\n"
          ]
        }
      ]
    },
    {
      "cell_type": "code",
      "source": [
        "plt.figure(figsize=(10, 6))\n",
        "plt.plot(range(1, epochs + 1), loss_values, label='Training Loss')\n",
        "plt.xlabel('Epoch')\n",
        "plt.ylabel('Loss')\n",
        "plt.title('Loss vs Epoch')\n",
        "plt.legend()\n",
        "plt.grid(True)\n",
        "plt.show()"
      ],
      "metadata": {
        "colab": {
          "base_uri": "https://localhost:8080/",
          "height": 564
        },
        "id": "zEIs7mpSdWns",
        "outputId": "b733bf38-2b80-419a-f008-f5c33a0cbd10"
      },
      "execution_count": null,
      "outputs": [
        {
          "output_type": "display_data",
          "data": {
            "text/plain": [
              "<Figure size 1000x600 with 1 Axes>"
            ],
            "image/png": "[encoded data removed]"
          },
          "metadata": {}
        }
      ]
    },
    {
      "cell_type": "code",
      "source": [
        "model.eval()\n",
        "with torch.no_grad():\n",
        "    predictions = model(X_test_tensor).cpu().numpy()\n",
        "    y_test_np = y_test_tensor.cpu().numpy()\n",
        "\n",
        "    # Calculate metrics\n",
        "    mae = mean_absolute_error(y_test_np, predictions)\n",
        "    rmse = np.sqrt(mean_squared_error(y_test_np, predictions))\n",
        "    r2 = r2_score(y_test_np, predictions)\n",
        "\n",
        "    print(f\"Mean Absolute Error (MAE): {mae:.4f}\")\n",
        "    print(f\"Root Mean Squared Error (RMSE): {rmse:.4f}\")\n",
        "    print(f\"R-squared (R²): {r2:.4f}\")\n"
      ],
      "metadata": {
        "colab": {
          "base_uri": "https://localhost:8080/"
        },
        "id": "QjEHisM3dY7r",
        "outputId": "0c4035ba-dbb7-4355-9035-8304924d9993"
      },
      "execution_count": null,
      "outputs": [
        {
          "output_type": "stream",
          "name": "stdout",
          "text": [
            "Mean Absolute Error (MAE): 40.2091\n",
            "Root Mean Squared Error (RMSE): 54.4674\n",
            "R-squared (R²): 0.7300\n"
          ]
        }
      ]
    }
  ]
}